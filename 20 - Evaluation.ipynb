{
 "cells": [
  {
   "cell_type": "markdown",
   "metadata": {},
   "source": [
    "### Evaluating Models"
   ]
  },
  {
   "cell_type": "code",
   "execution_count": null,
   "metadata": {},
   "outputs": [],
   "source": [
    "from Metric.Evaluator import Evaluator\n",
    "MODEL = \"CNN\"\n",
    "DOMAIN = \"PSD\"\n",
    "WINDOW = 10\n",
    "\n",
    "model_eval = Evaluator(model_name=MODEL, model_data_domain=DOMAIN, model_window_length=WINDOW)\n",
    "model_eval.show()"
   ]
  },
  {
   "cell_type": "markdown",
   "metadata": {},
   "source": [
    "### Metrics PSD"
   ]
  },
  {
   "cell_type": "code",
   "execution_count": null,
   "metadata": {},
   "outputs": [],
   "source": [
    "from Metric.Evaluator import Evaluator\n",
    "DOMAIN = \"PSD\"\n",
    "\n",
    "CNN_psd_1_eval = Evaluator(model_name=\"CNN\", model_data_domain=DOMAIN, model_time_window=1)\n",
    "CNN_psd_2_eval = Evaluator(model_name=\"CNN\", model_data_domain=DOMAIN, model_time_window=2)\n",
    "CNN_psd_5_eval = Evaluator(model_name=\"CNN\", model_data_domain=DOMAIN, model_time_window=5)\n",
    "CNN_psd_10_eval = Evaluator(model_name=\"CNN\", model_data_domain=DOMAIN, model_time_window=10)\n",
    "\n",
    "RNN_psd_1_eval = Evaluator(model_name=\"RNN\", model_data_domain=DOMAIN, model_time_window=1)\n",
    "RNN_psd_2_eval = Evaluator(model_name=\"RNN\", model_data_domain=DOMAIN, model_time_window=2)\n",
    "RNN_psd_5_eval = Evaluator(model_name=\"RNN\", model_data_domain=DOMAIN, model_time_window=5)\n",
    "RNN_psd_10_eval = Evaluator(model_name=\"RNN\", model_data_domain=DOMAIN, model_time_window=10)\n",
    "\n",
    "CRNN_psd_1_eval = Evaluator(model_name=\"CRNN\", model_data_domain=DOMAIN, model_time_window=1)\n",
    "CRNN_psd_2_eval = Evaluator(model_name=\"CRNN\", model_data_domain=DOMAIN, model_time_window=2)\n",
    "CRNN_psd_5_eval = Evaluator(model_name=\"CRNN\", model_data_domain=DOMAIN, model_time_window=5)\n",
    "CRNN_psd_10_eval = Evaluator(model_name=\"CRNN\", model_data_domain=DOMAIN, model_time_window=10)"
   ]
  },
  {
   "cell_type": "markdown",
   "metadata": {},
   "source": [
    "### Metrics Spectrogram"
   ]
  },
  {
   "cell_type": "code",
   "execution_count": null,
   "metadata": {},
   "outputs": [],
   "source": [
    "from Metric.Evaluator import Evaluator\n",
    "DOMAIN = \"spectrogram\"\n",
    "\n",
    "CNN_spectrogram_1_eval = Evaluator(model_name=\"CNN\", model_data_domain=DOMAIN, model_time_window=1)\n",
    "CNN_spectrogram_2_eval = Evaluator(model_name=\"CNN\", model_data_domain=DOMAIN, model_time_window=2)\n",
    "CNN_spectrogram_5_eval = Evaluator(model_name=\"CNN\", model_data_domain=DOMAIN, model_time_window=5)\n",
    "CNN_spectrogram_10_eval = Evaluator(model_name=\"CNN\", model_data_domain=DOMAIN, model_time_window=10)\n",
    "\n",
    "RNN_spectrogram_1_eval = Evaluator(model_name=\"RNN\", model_data_domain=DOMAIN, model_time_window=1)\n",
    "RNN_spectrogram_2_eval = Evaluator(model_name=\"RNN\", model_data_domain=DOMAIN, model_time_window=2)\n",
    "RNN_spectrogram_5_eval = Evaluator(model_name=\"RNN\", model_data_domain=DOMAIN, model_time_window=5)\n",
    "RNN_spectrogram_10_eval = Evaluator(model_name=\"RNN\", model_data_domain=DOMAIN, model_time_window=10)\n",
    "\n",
    "CRNN_spectrogram_1_eval = Evaluator(model_name=\"CRNN\", model_data_domain=DOMAIN, model_time_window=1)\n",
    "CRNN_spectrogram_2_eval = Evaluator(model_name=\"CRNN\", model_data_domain=DOMAIN, model_time_window=2)\n",
    "CRNN_spectrogram_5_eval = Evaluator(model_name=\"CRNN\", model_data_domain=DOMAIN, model_time_window=5)\n",
    "CRNN_spectrogram_10_eval = Evaluator(model_name=\"CRNN\", model_data_domain=DOMAIN, model_time_window=10)"
   ]
  },
  {
   "cell_type": "code",
   "execution_count": null,
   "metadata": {},
   "outputs": [],
   "source": [
    "# import matplotlib.pyplot as plt\n",
    "\n",
    "# tpr_time, fpr_time, auc_time = final_time_metrics.generate_roc_auc_data()\n",
    "# tpr_freq, fpr_freq, auc_freq = final_frequency_metrics.generate_roc_auc_data()\n",
    "\n",
    "# plt.title('ROC')\n",
    "# plt.plot(fpr_time, tpr_time, 'blue', label = 'Temporal: AUC = %0.2f' % auc_time)\n",
    "# plt.plot(fpr_freq, tpr_freq, 'green', label = 'Frequência: AUC = %0.2f' % auc_freq)\n",
    "# plt.legend(loc = 'lower right')\n",
    "# plt.plot([0, 1], [0, 1],'r--')\n",
    "# plt.xlim([0, 1])\n",
    "# plt.ylim([0, 1])\n",
    "# plt.ylabel('Taxa de Verdadeiro Positivo')\n",
    "# plt.xlabel('Taxa de Falso Positivo')\n",
    "# plt.show()"
   ]
  },
  {
   "cell_type": "code",
   "execution_count": null,
   "metadata": {},
   "outputs": [],
   "source": [
    "# from scipy import stats\n",
    "\n",
    "# stats.mannwhitneyu(final_time_metrics.accuracy, final_frequency_metrics.accuracy)"
   ]
  }
 ],
 "metadata": {
  "kernelspec": {
   "display_name": "Python 3",
   "language": "python",
   "name": "python3"
  },
  "language_info": {
   "codemirror_mode": {
    "name": "ipython",
    "version": 3
   },
   "file_extension": ".py",
   "mimetype": "text/x-python",
   "name": "python",
   "nbconvert_exporter": "python",
   "pygments_lexer": "ipython3",
   "version": "3.10.12"
  }
 },
 "nbformat": 4,
 "nbformat_minor": 2
}
