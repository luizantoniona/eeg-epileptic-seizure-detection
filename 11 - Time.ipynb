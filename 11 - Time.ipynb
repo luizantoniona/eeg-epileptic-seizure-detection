{
 "cells": [
  {
   "cell_type": "markdown",
   "metadata": {},
   "source": [
    "### Time"
   ]
  },
  {
   "cell_type": "code",
   "execution_count": null,
   "metadata": {},
   "outputs": [],
   "source": [
    "SIGNAL_TYPE = \"time\"\n",
    "TIME_WINDOW = 1"
   ]
  },
  {
   "cell_type": "code",
   "execution_count": null,
   "metadata": {},
   "outputs": [],
   "source": [
    "import Preprocessor.Preprocessor as Preprocessor\n",
    "X_train, y_train, X_val, y_val, X_test, y_test = Preprocessor.preprocess(signal_type=SIGNAL_TYPE, time_window=TIME_WINDOW)"
   ]
  },
  {
   "cell_type": "code",
   "execution_count": null,
   "metadata": {},
   "outputs": [],
   "source": [
    "import numpy as np\n",
    "\n",
    "X_train = np.transpose(X_train, axes=(0, 2, 1))\n",
    "X_val = np.transpose(X_val, axes=(0, 2, 1))\n",
    "X_test = np.transpose(X_test, axes=(0, 2, 1))\n",
    "\n",
    "print(\"TRAIN SHAPE:\", X_train.shape)\n",
    "print(\"VALIDATION SHAPE:\", X_val.shape)\n",
    "print(\"TEST SHAPE:\", X_test.shape)"
   ]
  },
  {
   "cell_type": "markdown",
   "metadata": {},
   "source": [
    "### Recurrent Neural Network"
   ]
  },
  {
   "cell_type": "code",
   "execution_count": null,
   "metadata": {},
   "outputs": [],
   "source": [
    "import Trainer.Trainer as Trainer\n",
    "Trainer.train(X_train, y_train, X_val, y_val, X_test, y_test, \"RNN\", signal_type=SIGNAL_TYPE, time_window=TIME_WINDOW)"
   ]
  },
  {
   "cell_type": "code",
   "execution_count": null,
   "metadata": {},
   "outputs": [],
   "source": [
    "import numpy as np\n",
    "\n",
    "X_train = np.expand_dims(X_train, axis=-1)\n",
    "X_val = np.expand_dims(X_val, axis=-1)\n",
    "X_test = np.expand_dims(X_test, axis=-1)\n",
    "\n",
    "print(\"TRAIN SHAPE:\", X_train.shape)\n",
    "print(\"VALIDATION SHAPE:\", X_val.shape)\n",
    "print(\"TEST SHAPE:\", X_test.shape)"
   ]
  },
  {
   "cell_type": "markdown",
   "metadata": {},
   "source": [
    "### Convolutional Neural Network"
   ]
  },
  {
   "cell_type": "code",
   "execution_count": null,
   "metadata": {},
   "outputs": [],
   "source": [
    "import Trainer.Trainer as Trainer\n",
    "Trainer.train(X_train, y_train, X_val, y_val, X_test, y_test, \"CNN\", signal_type=SIGNAL_TYPE, time_window=TIME_WINDOW)"
   ]
  },
  {
   "cell_type": "markdown",
   "metadata": {},
   "source": [
    "### Convolutional Recurrent Neural Network"
   ]
  },
  {
   "cell_type": "code",
   "execution_count": null,
   "metadata": {},
   "outputs": [],
   "source": [
    "import Trainer.Trainer as Trainer\n",
    "Trainer.train(X_train, y_train, X_val, y_val, X_test, y_test, \"CRNN\", signal_type=SIGNAL_TYPE, time_window=TIME_WINDOW)"
   ]
  },
  {
   "cell_type": "markdown",
   "metadata": {},
   "source": [
    "### Vision Transformer"
   ]
  },
  {
   "cell_type": "code",
   "execution_count": null,
   "metadata": {},
   "outputs": [],
   "source": [
    "# import Trainer.Trainer as Trainer\n",
    "# Trainer.train(X_train, y_train, X_val, y_val, X_test, y_test, \"ViT\", signal_type=SIGNAL_TYPE, time_window=TIME_WINDOW)"
   ]
  }
 ],
 "metadata": {
  "kernelspec": {
   "display_name": "Python 3",
   "language": "python",
   "name": "python3"
  },
  "language_info": {
   "codemirror_mode": {
    "name": "ipython",
    "version": 3
   },
   "file_extension": ".py",
   "mimetype": "text/x-python",
   "name": "python",
   "nbconvert_exporter": "python",
   "pygments_lexer": "ipython3",
   "version": "3.10.12"
  }
 },
 "nbformat": 4,
 "nbformat_minor": 2
}
