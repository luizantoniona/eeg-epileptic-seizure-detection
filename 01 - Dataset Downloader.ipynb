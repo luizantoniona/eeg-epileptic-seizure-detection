{
 "cells": [
  {
   "cell_type": "markdown",
   "id": "90d89cc3",
   "metadata": {},
   "source": [
    "### Dataset Downloader"
   ]
  },
  {
   "cell_type": "markdown",
   "id": "b7d8e14d",
   "metadata": {},
   "source": [
    "Get all [CHB-MIT Scalp EEG Database](https://physionet.org/physiobank/database/chbmit/) files and stores it to data/ folder"
   ]
  },
  {
   "cell_type": "code",
   "execution_count": null,
   "id": "4c9066dc",
   "metadata": {},
   "outputs": [],
   "source": [
    "import configuration.downloader_chbmit as CHBMIT\n",
    "\n",
    "CHBMIT.download()"
   ]
  }
 ],
 "metadata": {
  "kernelspec": {
   "display_name": "Python 3 (ipykernel)",
   "language": "python",
   "name": "python3"
  },
  "language_info": {
   "codemirror_mode": {
    "name": "ipython",
    "version": 3
   },
   "file_extension": ".py",
   "mimetype": "text/x-python",
   "name": "python",
   "nbconvert_exporter": "python",
   "pygments_lexer": "ipython3",
   "version": "3.11.5"
  }
 },
 "nbformat": 4,
 "nbformat_minor": 5
}
