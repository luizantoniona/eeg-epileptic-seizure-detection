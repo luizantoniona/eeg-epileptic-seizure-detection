{
 "cells": [
  {
   "cell_type": "markdown",
   "id": "90d89cc3",
   "metadata": {},
   "source": [
    "### Dataset Downloader\n",
    "- Packages needed: \n",
    "  - **requests**\n",
    "  - **wfdb**"
   ]
  },
  {
   "cell_type": "markdown",
   "id": "b7d8e14d",
   "metadata": {},
   "source": [
    "Get all [CHB-MIT Scalp EEG Database](https://physionet.org/physiobank/database/chbmit/) records and stores the path at edf_files and summary at part_codes:"
   ]
  },
  {
   "cell_type": "code",
   "execution_count": null,
   "id": "4c9066dc",
   "metadata": {},
   "outputs": [],
   "source": [
    "import wfdb \n",
    "\n",
    "dbs = wfdb.get_dbs()\n",
    "records_list = wfdb.io.get_record_list('chbmit', records='all')\n",
    "\n",
    "part_codes = sorted(list(set([record.split('/')[0] for record in records_list])))\n",
    "edf_files = sorted(list(set([record.split('/')[1] for record in records_list])))"
   ]
  },
  {
   "cell_type": "markdown",
   "id": "0469082d",
   "metadata": {},
   "source": [
    "Download each summary and stores it in data/ directory for further use:"
   ]
  },
  {
   "cell_type": "code",
   "execution_count": null,
   "id": "a87360d2",
   "metadata": {},
   "outputs": [],
   "source": [
    "import os\n",
    "from urllib.request import urlretrieve\n",
    "\n",
    "def get_summary( part_code ):\n",
    "  url = \"https://physionet.org/physiobank/database/chbmit/\" + part_code + '/' + part_code + '-summary.txt'\n",
    "  directory = \"./data/\" + part_code + '/'\n",
    "  filename = part_code + \"-summary.txt\"\n",
    "\n",
    "  fullpath = os.path.join( directory, filename )\n",
    "\n",
    "  if not os.path.exists( fullpath ):\n",
    "    os.makedirs( directory )\n",
    "    urlretrieve( url, fullpath )\n",
    "  else:\n",
    "    print(part_code + \": Já existe\")\n",
    "    \n",
    "#Execute\n",
    "for part_code in part_codes:\n",
    "  get_summary( part_code )\n"
   ]
  },
  {
   "cell_type": "markdown",
   "id": "b61f30d6",
   "metadata": {},
   "source": [
    "Donwload each sample (if don't exists) of all records and stores it in the correct path at /data/record_name/file_name:"
   ]
  },
  {
   "cell_type": "code",
   "execution_count": null,
   "id": "01e63a9b",
   "metadata": {},
   "outputs": [],
   "source": [
    "import os\n",
    "from urllib.request import urlretrieve\n",
    "\n",
    "def get_edf_by_record(record, file):\n",
    "  url = \"https://physionet.org/physiobank/database/chbmit/\" + record + '/' + file\n",
    "  directory = \"./data/\" + record + '/'\n",
    "  filename = file\n",
    "\n",
    "  fullpath = os.path.join( directory, filename )\n",
    "\n",
    "  if not os.path.exists( fullpath ):\n",
    "    try:\n",
    "      urlretrieve( url, fullpath )\n",
    "      print(fullpath + \": Baixado!\")\n",
    "    except:\n",
    "      print( filename + \": Não foi possivel, verificar\")\n",
    "    \n",
    "  else:\n",
    "    print(fullpath + \": Já existe!\")\n",
    "    \n",
    "#Execute\n",
    "for record in part_codes:\n",
    "    files_by_record = list( filter( lambda file: record + '_' in file, edf_files ) )\n",
    "    for file in files_by_record:\n",
    "        get_edf_by_record( record, file )"
   ]
  }
 ],
 "metadata": {
  "kernelspec": {
   "display_name": "Python 3 (ipykernel)",
   "language": "python",
   "name": "python3"
  },
  "language_info": {
   "codemirror_mode": {
    "name": "ipython",
    "version": 3
   },
   "file_extension": ".py",
   "mimetype": "text/x-python",
   "name": "python",
   "nbconvert_exporter": "python",
   "pygments_lexer": "ipython3",
   "version": "3.11.5"
  }
 },
 "nbformat": 4,
 "nbformat_minor": 5
}
