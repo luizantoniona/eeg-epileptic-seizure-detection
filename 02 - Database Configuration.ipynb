{
 "cells": [
  {
   "cell_type": "markdown",
   "metadata": {},
   "source": [
    "### Database Configuration"
   ]
  },
  {
   "cell_type": "markdown",
   "metadata": {},
   "source": [
    "Creating MySQL connection:"
   ]
  },
  {
   "cell_type": "code",
   "execution_count": null,
   "metadata": {},
   "outputs": [],
   "source": [
    "from database.database import Database\n",
    "\n",
    "database = Database()\n",
    "database.execute(\"CREATE DATABASE\" + database.name())"
   ]
  },
  {
   "cell_type": "markdown",
   "metadata": {},
   "source": [
    "Creating  the following table:\n",
    "\n",
    "|record_name| file_name | start_time | end_time | nr_seizures | start_seizure | end_seizure | nr_channels | ds_channels |\n",
    "|:---------:|:---------:|:----------:|:--------:|:-----------:|:-------------:|:-----------:|:-----------:|:-----------:|\n",
    "|ch01|chb01_01.edf|12:34:22|13:13:07|2|1862, 2000|1963, 2213| 24 | FP1-F7,F7-T7,...|"
   ]
  },
  {
   "cell_type": "code",
   "execution_count": null,
   "metadata": {},
   "outputs": [],
   "source": [
    "database.execute_from_file(\"./database/sql/create_table_summary_info.sql\")"
   ]
  },
  {
   "cell_type": "markdown",
   "metadata": {},
   "source": [
    "Creating the metrics table:\n",
    "|model_name| model_data_domain | accuracy | precision | sensitivity | specificity | true_positive_rate | false_positive_rate | f1_score |\n",
    "|:---------:|:---------:|:----------:|:--------:|:-----------:|:-------------:|:-----------:|:-----------:|:-----------:|\n",
    "|TimeCNN|time|0.876|0.876|0.876|0.876|0.876| 0.876 |0.876|"
   ]
  },
  {
   "cell_type": "code",
   "execution_count": null,
   "metadata": {},
   "outputs": [],
   "source": [
    "database.execute_from_file(\"./database/sql/create_table_metrics_info.sql\")"
   ]
  }
 ],
 "metadata": {
  "kernelspec": {
   "display_name": "base",
   "language": "python",
   "name": "python3"
  },
  "language_info": {
   "codemirror_mode": {
    "name": "ipython",
    "version": 3
   },
   "file_extension": ".py",
   "mimetype": "text/x-python",
   "name": "python",
   "nbconvert_exporter": "python",
   "pygments_lexer": "ipython3",
   "version": "3.11.5"
  },
  "orig_nbformat": 4
 },
 "nbformat": 4,
 "nbformat_minor": 2
}
